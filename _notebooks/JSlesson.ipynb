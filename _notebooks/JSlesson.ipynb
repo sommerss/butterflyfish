{
 "cells": [
  {
   "cell_type": "markdown",
   "metadata": {},
   "source": [
    "# Basic JavaScript Knowledge"
   ]
  },
  {
   "cell_type": "markdown",
   "metadata": {},
   "source": [
    "### Variables \n",
    "        - declare JavaScript variables with var, let or const. \n",
    "        - If the value of the variable can change, like a total, use let. If the value is set, like prices, use const. Variables can hold any data type. "
   ]
  },
  {
   "cell_type": "code",
   "execution_count": null,
   "metadata": {},
   "outputs": [],
   "source": [
    "var x = 5;\n",
    "var y = 6;\n",
    "var z = x + y;\n",
    "\n",
    "z"
   ]
  },
  {
   "attachments": {},
   "cell_type": "markdown",
   "metadata": {},
   "source": [
    "### Data types- there are 8 JS data types. \n",
    "- List a few data types that you already know\n",
    "> number\n",
    "> string\n",
    "> boolean"
   ]
  },
  {
   "cell_type": "markdown",
   "metadata": {},
   "source": [
    "#### 1. String: a series of characters, written with single or double quotes\n"
   ]
  },
  {
   "cell_type": "code",
   "execution_count": null,
   "metadata": {},
   "outputs": [],
   "source": [
    "let text = \"Mort\";\n",
    "text"
   ]
  },
  {
   "cell_type": "code",
   "execution_count": null,
   "metadata": {},
   "outputs": [],
   "source": [
    "let text2 = 'Yeung';\n",
    "text2"
   ]
  },
  {
   "cell_type": "markdown",
   "metadata": {},
   "source": [
    "#### 2. Number: can be integers or decimals. \n",
    "        - You can also have exponential notation for large/small numbers "
   ]
  },
  {
   "cell_type": "markdown",
   "metadata": {},
   "source": [
    "#### 3. Bigint: used to store integer values that are too big to be represented by a normal JS number\n",
    "        - JavaScript integers are only accurate up to 15 digits\n",
    "\n",
    "\n"
   ]
  },
  {
   "cell_type": "code",
   "execution_count": null,
   "metadata": {},
   "outputs": [],
   "source": [
    "let number = 1234567890123456789012345n;\n",
    "let Largenum = BigInt(1234567890123456789012345)\n",
    "\n",
    "let typeLargenum = typeof Largenum;\n",
    "typeLargenum\n"
   ]
  },
  {
   "cell_type": "code",
   "execution_count": null,
   "metadata": {},
   "outputs": [],
   "source": [
    "Largenum"
   ]
  },
  {
   "cell_type": "markdown",
   "metadata": {},
   "source": [
    "#### 4. Boolean: true or false, used in conditional testing\n"
   ]
  },
  {
   "cell_type": "code",
   "execution_count": null,
   "metadata": {},
   "outputs": [],
   "source": [
    "Boolean(10 > 9)\n"
   ]
  },
  {
   "attachments": {},
   "cell_type": "markdown",
   "metadata": {},
   "source": [
    "Write a boolean statement that outputs true\n",
    "\n",
    "Boolean(2+2 == 4)"
   ]
  },
  {
   "cell_type": "markdown",
   "metadata": {},
   "source": [
    "#### 5. Undefined: a variable without a value, has the value undefined/empty values\n"
   ]
  },
  {
   "cell_type": "code",
   "execution_count": null,
   "metadata": {},
   "outputs": [],
   "source": [
    "let name;  \n",
    "name"
   ]
  },
  {
   "cell_type": "code",
   "execution_count": null,
   "metadata": {},
   "outputs": [],
   "source": [
    "grade = undefined;"
   ]
  },
  {
   "cell_type": "markdown",
   "metadata": {},
   "source": [
    "#### 6. Null: represents the intentional absence of any object value\n",
    "        - variable is empty at the moment and may have a value later"
   ]
  },
  {
   "cell_type": "code",
   "execution_count": null,
   "metadata": {},
   "outputs": [],
   "source": [
    "let result;\n",
    "\n",
    "result = Boolean(undefined);\n",
    "console.log(result); // false\n",
    "\n",
    "result = Boolean(null);\n",
    "console.log(result); // false"
   ]
  },
  {
   "cell_type": "markdown",
   "metadata": {},
   "source": [
    "#### 7. Symbol: used to represent unique values that can be used as identifiers/keys in objects. \n",
    "        - They are also used to create private properties and methods in classes.\n",
    "        - unique and immutable, so they can be used as unique identifiers in objects and classes.\n",
    "        - useful for creating constants that can be shared across different parts of your code.\n"
   ]
  },
  {
   "cell_type": "code",
   "execution_count": 5,
   "metadata": {},
   "outputs": [
    {
     "name": "stdout",
     "output_type": "stream",
     "text": [
      "Symbol()\n"
     ]
    }
   ],
   "source": [
    "// Create a Symbol\n",
    "const mySymbol = Symbol();\n",
    "\n",
    "console.log(mySymbol);\n",
    "// expected output: Symbol()\n"
   ]
  },
  {
   "cell_type": "code",
   "execution_count": 7,
   "metadata": {},
   "outputs": [
    {
     "name": "stdout",
     "output_type": "stream",
     "text": [
      "Hello World\n"
     ]
    }
   ],
   "source": [
    "const myObj = {\n",
    "    [mySymbol]: 'Hello World'\n",
    "  };\n",
    "  \n",
    "  console.log(myObj[mySymbol]);\n"
   ]
  },
  {
   "cell_type": "markdown",
   "metadata": {},
   "source": [
    "Edit/add to the code above so that it outputs \"Hello World\""
   ]
  },
  {
   "cell_type": "markdown",
   "metadata": {},
   "source": [
    "#### 8. Object: an unordered collection of key-value pairs. Each key-value pair is called a property. \n",
    "        - object: written with curly braces {}, name:value pairs\n",
    "        - array: written with square brackets, separated by commas "
   ]
  },
  {
   "attachments": {},
   "cell_type": "markdown",
   "metadata": {},
   "source": [
    "Object\n",
    "- Identify the name/keys in the object below: \n",
    "- Identify the values in the object below: \n",
    "\n",
    "keys = name, breed, age, and color\n",
    "values = Elly, rottweiler, 4, and black"
   ]
  },
  {
   "cell_type": "code",
   "execution_count": null,
   "metadata": {},
   "outputs": [],
   "source": [
    "const dogs = {name: \"Elly\", breed:\"Rottweiler\", age:4, color:\"black\"}\n",
    "dogs"
   ]
  },
  {
   "cell_type": "markdown",
   "metadata": {},
   "source": [
    "Array"
   ]
  },
  {
   "cell_type": "code",
   "execution_count": null,
   "metadata": {},
   "outputs": [],
   "source": [
    "const songs = [\"Love Story\", \"Blank Space\", \"I Knew You Were Trouble\"];\n",
    "songs"
   ]
  },
  {
   "cell_type": "markdown",
   "metadata": {},
   "source": [
    "### Const\n",
    "        - We use const to declare variables whose value can be initialized only at the time of declaration.  \n",
    "        - Const means that the identifier cannot be reassigned. "
   ]
  },
  {
   "cell_type": "code",
   "execution_count": null,
   "metadata": {},
   "outputs": [],
   "source": [
    "const cost1 = 2;\n",
    "const cost2 = 11;\n",
    "let totalCost = cost1 + cost2;\n",
    "\n",
    "totalCost"
   ]
  },
  {
   "cell_type": "markdown",
   "metadata": {},
   "source": [
    "### Conditionals: control behavior, decides whether or not pieces of code can run.\n",
    "    - If: if a condition is true it is used to specify execution for a block of code.\n",
    "    - Else: if the same condition is false it specifies the execution for a block of code.\n",
    "    - Else If: new test if the first condition is false."
   ]
  },
  {
   "cell_type": "code",
   "execution_count": null,
   "metadata": {},
   "outputs": [],
   "source": [
    "if (10 > 5) {\n",
    "    var outcome = \"True\";\n",
    "}\n",
    "\n",
    "outcome;"
   ]
  },
  {
   "cell_type": "code",
   "execution_count": null,
   "metadata": {},
   "outputs": [],
   "source": [
    "if (\"red\" === \"blue\") {\n",
    "    var outcome = \"if block\";\n",
    "} else {\n",
    "    var outcome = \"else block\";\n",
    "}\n",
    "outcome;"
   ]
  },
  {
   "cell_type": "code",
   "execution_count": null,
   "metadata": {},
   "outputs": [],
   "source": [
    "let temperature = 54\n",
    "if (temperature < 70) {\n",
    "    cast = \"Chilly\";\n",
    "  } else if (temperature < 60) {\n",
    "    cast = \"Cold\";\n",
    "  } else {\n",
    "    cast = \"Warm\";\n",
    "  }\n",
    "\n",
    "cast"
   ]
  },
  {
   "attachments": {},
   "cell_type": "markdown",
   "metadata": {},
   "source": [
    "Create a conditional statement about how you would greet someone based on the time of day. \n",
    "\n"
   ]
  },
  {
   "cell_type": "code",
   "execution_count": 1,
   "metadata": {},
   "outputs": [
    {
     "data": {
      "text/plain": [
       "'good afternoon'"
      ]
     },
     "execution_count": 1,
     "metadata": {},
     "output_type": "execute_result"
    }
   ],
   "source": [
    "let time = 2\n",
    "if (time < 3) {\n",
    "    greet = \"good afternoon\";\n",
    "  } else if (time < 12) {\n",
    "    greet = \"good morning\";\n",
    "  } else {\n",
    "    greet = \"good evening\";\n",
    "  }\n",
    "\n",
    "greet"
   ]
  },
  {
   "cell_type": "markdown",
   "metadata": {},
   "source": [
    "### Functions: \n",
    "    - defining: define with function + functionName(parameter) { function code }.  It can be unnamed/anonymous can be defined based on a condition.\n",
    "    - calling: simply put the function name with a parameter and semicolon, or a function can call itself (recursive)"
   ]
  },
  {
   "cell_type": "markdown",
   "metadata": {},
   "source": [
    "### Iteration: \n",
    "        - for loop: repeats until a specified condition evaluates to false\n",
    "        - do...while: repeats until a specified condition evaluates to false\n",
    "        - while statement: executes its statements as long as a specified condition evaluates to true\n",
    "        - label: provides a statement with an identifier that lets you refer to it later in the code. ex. you can use a label to identify a loop, and then use the break or continue statements to    indicate whether a program should interrupt the loop or continue its execution\n",
    "        - break: used to terminate a loop, switch, or in conjunction with a labeled statement\n",
    "        - continue: can be used to restart a while, do-while, for, or label statement\n",
    "        - for...in: iterates a specified variable over all the enumerable properties of an object\n",
    "        - for...of statement creates a loop Iterating over iterable objects, invoking a custom iteration hook with statements to be executed for the value of each distinct property\n",
    "\n"
   ]
  },
  {
   "attachments": {},
   "cell_type": "markdown",
   "metadata": {},
   "source": [
    "# JavaScript in HTML- Questions\n",
    "1. Where do you store the JavaScript Code?\n",
    "either inline script (set the type as javascript) or external (reference it in the html but its in a dif file)\n",
    "2. How do you import a JS file into HTML? external storage as mentioned above- you use \"src\" and reference the outside file\n",
    "script type=\"text/javascript\" src=\"example.js\">/script like this (i took out two of the <> so it wouldnt show up weird)\n",
    "3. What is onClick? it means that the code will run when the user clicks something (button, link, etc)\n",
    "4. What tag do you use to write JavaScript code? the script tag"
   ]
  },
  {
   "cell_type": "markdown",
   "metadata": {},
   "source": [
    "# Hacks\n",
    "1. Add notes in this notebook\n",
    "2. Complete the code portions, questions, and prompts throughout the notebook\n",
    "3. Extra Credit: code a small JavaScript game "
   ]
  },
  {
   "attachments": {},
   "cell_type": "markdown",
   "metadata": {},
   "source": [
    "i was having some trouble making my node.js work, so i decided to just make the code for an actual js file because the readline function wasn't working"
   ]
  },
  {
   "cell_type": "code",
   "execution_count": null,
   "metadata": {},
   "outputs": [],
   "source": [
    "// Generate a random number between 1 and 10\n",
    "const randomNumber = Math.floor(Math.random() * 10) + 1;\n",
    "\n",
    "// Prompt the user to guess the number\n",
    "const userGuess = prompt(\"guess between 1 and 10:\");\n",
    "\n",
    "// Check if the user's guess matches the random number\n",
    "if (userGuess == randomNumber) {\n",
    "  alert(\"awesome! the number was \" + randomNumber);\n",
    "} else {\n",
    "  alert(\"no, it was \" + randomNumber + \". try again!\");\n",
    "}\n"
   ]
  },
  {
   "attachments": {},
   "cell_type": "markdown",
   "metadata": {},
   "source": [
    "here is a simple guessing game where it just has the input function and the user guesses a number using what is basically a variation of the randint function except for javascript (the math.random function)"
   ]
  }
 ],
 "metadata": {
  "kernelspec": {
   "display_name": "JavaScript (Node.js)",
   "language": "javascript",
   "name": "javascript"
  },
  "language_info": {
   "file_extension": ".js",
   "mimetype": "application/javascript",
   "name": "javascript",
   "version": "10.13.0"
  },
  "orig_nbformat": 4
 },
 "nbformat": 4,
 "nbformat_minor": 2
}
