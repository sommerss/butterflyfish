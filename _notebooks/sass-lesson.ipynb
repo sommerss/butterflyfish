{
 "cells": [
  {
   "attachments": {},
   "cell_type": "markdown",
   "metadata": {},
   "source": [
    "# SASS"
   ]
  },
  {
   "attachments": {},
   "cell_type": "markdown",
   "metadata": {},
   "source": [
    "# Why SASS?\n",
    "SASS is an improvement on CSS in that there are methods of abstraction. It is a stylesheet language that is compiled into CSS, which means that Sass will translate the Sass code you wrote into CSS, which is what your web browser can read.\n",
    "\n",
    "\n",
    "# SASS vs SCSS\n",
    "As you learn about Sass, you might notice something called Scss. They are basically the same thing except that Scss uses curly braces and semicolons to distinguish between lines. Sass uses indentation and newlines instead.\n",
    "\n",
    "We will be teaching the Scss syntax because it is more commonly used."
   ]
  },
  {
   "attachments": {},
   "cell_type": "markdown",
   "metadata": {},
   "source": [
    "# Getting started\n",
    "\n",
    "A easy way to write SASS and have it preprocessed into CSS is by using a Jekyll powered website, such as GitHub pages or Fastpages.\n",
    "\n",
    "The first step is to clone a GitHub pages repo, such as this [one](https://github.com/lwu1822/sassy_squad).\n",
    "\n",
    "Within the repository, head over to `assets/css/`, and open `style.scss`.\n",
    "\n",
    "This is where you can create your SASS code.\n",
    "\n",
    "To see your CSS-translated SASS code, head over to `_site/assets/css/style.css`\n",
    "\n",
    "Note: You will need to run bundle exec jekyll serve before the _site directory appears.\n",
    "\n",
    "The first few hundred lines are used to style Github's theme. Make sure to scroll to the very bottom to see the SASS code that you wrote, which is in the form of CSS."
   ]
  },
  {
   "attachments": {},
   "cell_type": "markdown",
   "metadata": {},
   "source": [
    "# Nesting\n",
    "\n",
    "write styling code in a way that looks like html hierarchy- one code block goes inside another (like an if statement inside of a for loop). it can do a few things- \n",
    "- control execution/flow of code\n",
    "- make code more readable by organizing\n",
    "- make more complex code/structure"
   ]
  },
  {
   "attachments": {},
   "cell_type": "markdown",
   "metadata": {},
   "source": [
    "# Mini-hack\n",
    "\n",
    "Write out the SASS equivalent for the following CSS code:\n",
    "\n",
    "```\n",
    ".a .b {\n",
    "    color: green;\n",
    "}\n",
    "\n",
    ".a .c {\n",
    "    color: blue;\n",
    "}\n",
    "```"
   ]
  },
  {
   "attachments": {},
   "cell_type": "markdown",
   "metadata": {},
   "source": [
    ".a {\n",
    "  .b {\n",
    "    color: green;\n",
    "  }\n",
    "\n",
    "  .c {\n",
    "    color: blue;\n",
    "  }\n",
    "}\n",
    "nest both b and c inside a since they share that attribute"
   ]
  },
  {
   "attachments": {},
   "cell_type": "markdown",
   "metadata": {},
   "source": [
    "# Extend/Inheritance\n",
    "\n",
    "What are some similarities that the buttons share? What are the differences? they all have different colors, but they are all shaped and sized the same and have the same rounded corners\n",
    "\n",
    "Take notes here\n",
    "- can create placeholder class that stores code you want to reuse- like a template\n",
    "- you are basically creating a class that inherits properties of previous classes\n",
    "- the new class gains all of the attributes of the old class\n",
    "\n"
   ]
  },
  {
   "attachments": {},
   "cell_type": "markdown",
   "metadata": {},
   "source": [
    "# Mixin\n",
    "\n",
    "- Similar to extend because it creates a template for reusing and it can use parameters to style a specific way\n",
    "- more flexible than inheritance and avoids code duplication"
   ]
  },
  {
   "attachments": {},
   "cell_type": "markdown",
   "metadata": {},
   "source": [
    "# Mini-hack\n",
    "\n",
    "Write out a mixin in SASS that takes in a color and a font size as the parameter. Within the mixin, set the background color and font color to the color parameter, and set the font size to the font size parameter. Then create a selector that calls the mixin, and pass in a color and font size of your choice as the arguments.\n"
   ]
  },
  {
   "cell_type": "code",
   "execution_count": null,
   "metadata": {
    "vscode": {
     "languageId": "plaintext"
    }
   },
   "outputs": [],
   "source": [
    "@mixin color-and-size($color, $font-size) {\n",
    "  background-color: $color;\n",
    "  color: $color;\n",
    "  font-size: $font-size;\n",
    "}\n",
    "\n",
    ".my-class {\n",
    "  @include color-and-size(#FF5733, 20px);\n",
    "}\n"
   ]
  },
  {
   "attachments": {},
   "cell_type": "markdown",
   "metadata": {},
   "source": [
    "# Function\n",
    "\n",
    "- invert function can change between light and dark mode (takes rgb value and returns inverted value)\n",
    "- Functions are called by specifying the function name with parenthesis. Inside the parenthesis, you can specify the arguments."
   ]
  },
  {
   "attachments": {},
   "cell_type": "markdown",
   "metadata": {},
   "source": [
    "# Import\n",
    "\n",
    "- bring in code from another file\n",
    "- you can use functionality from that code without having to have it in your own code/rewrite it if it is someone elses\n",
    "- also lets you use same style across multiple files without having to copy and paste over and over"
   ]
  },
  {
   "attachments": {},
   "cell_type": "markdown",
   "metadata": {},
   "source": [
    "# SASS Hacks\n",
    "\n",
    "1. Take notes and complete the mini-hacks. (0.9)\n",
    "\n",
    "2. Complete the [quiz questions](https://lwu1822.github.io/sassy_squad/quizQuestions) and provide your answers in this notebook. (0.9)\n",
    "\n",
    "3. Use SASS to create something that uses either extend or mixin. (0.9)\n",
    "\n",
    "4. Extra credit: Research other SASS features and blog about what you learned or add to your SASS project with any extra features not covered in this lesson. More points will be given if both are done."
   ]
  },
  {
   "attachments": {},
   "cell_type": "markdown",
   "metadata": {},
   "source": [
    "### MULTIPLE CHOICE Qs\n",
    "1. b. a scripting language that has many styling operations\n",
    "2. a. They are very similar in their function, but their syntax is slightly different \n",
    "3. c. CSS takes up more bytes \n",
    "4. b. Syntactically Awesome Style Sheets\n",
    "5. d. compute\n",
    "6. b. extend \n",
    "7. b. Directive \n",
    "### SASS CREATION WITH MIXIN\n",
    "i like gradient colors so here is a mixin thing for gradients in sass"
   ]
  },
  {
   "cell_type": "code",
   "execution_count": null,
   "metadata": {
    "vscode": {
     "languageId": "plaintext"
    }
   },
   "outputs": [],
   "source": [
    "// Define a mixin that creates a gradient background\n",
    "@mixin gradient-background($start-color, $end-color) {\n",
    "  background: linear-gradient(to bottom, $start-color, $end-color);\n",
    "}\n",
    "\n",
    "// Use the mixin to create a gradient background on an element\n",
    ".box {\n",
    "  width: 200px;\n",
    "  height: 200px;\n",
    "  @include gradient-background(#ff0000, #00ff00);\n",
    "}\n"
   ]
  },
  {
   "attachments": {},
   "cell_type": "markdown",
   "metadata": {},
   "source": [
    "### EXTRA NOTES\n",
    "\n",
    "i researched some additional features of SASS besides the ones mentioned. i picked five more even though there are a lot.\n",
    "\n",
    "- placeholder selectors: SASS allows you to define placeholder selectors with the % symbol, which you can then use with the @extend directive to apply styles to multiple selectors at once.\n",
    "- operators: SASS supports a number of mathematical and logical operators that you can use to manipulate values in your styles.\n",
    "- interpolation: SASS allows you to use string interpolation with the #{} syntax to include variables or expressions in your CSS styles.\n",
    "- media queries: SASS allows you to define media queries within the context of a selector, which makes it easier to write and manage responsive styles.\n",
    "- source maps: SASS supports source maps, which allow you to debug your styles in the browser's developer tools and see the original SASS source code, rather than the compiled CSS code.\n",
    "\n",
    "\n",
    "so obviously i had to make a code segment using one of these... placeholder selectors was at the top, so even though it's similar to inheritance, i wrote some more button code. \n",
    "\n",
    "\n"
   ]
  },
  {
   "cell_type": "code",
   "execution_count": null,
   "metadata": {
    "vscode": {
     "languageId": "plaintext"
    }
   },
   "outputs": [],
   "source": [
    "%button {\n",
    "  display: inline-block;\n",
    "  padding: 10px 20px;\n",
    "  background-color: blue;\n",
    "  color: white;\n",
    "  border-radius: 5px;\n",
    "}\n",
    "\n",
    ".submit-button {\n",
    "  @extend %button;\n",
    "}\n",
    "\n",
    ".cancel-button {\n",
    "  @extend %button;\n",
    "  background-color: red;\n",
    "}\n"
   ]
  },
  {
   "attachments": {},
   "cell_type": "markdown",
   "metadata": {},
   "source": [
    "it defines common button sizing and then makes two more buttons that extend those features to them (but the cancel button is red instead as well)"
   ]
  }
 ],
 "metadata": {
  "language_info": {
   "name": "python"
  },
  "orig_nbformat": 4
 },
 "nbformat": 4,
 "nbformat_minor": 2
}
